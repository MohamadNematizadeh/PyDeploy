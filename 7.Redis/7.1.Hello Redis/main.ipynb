{
 "cells": [
  {
   "cell_type": "markdown",
   "metadata": {},
   "source": [
    "# Hello World Redis\n"
   ]
  },
  {
   "cell_type": "code",
   "execution_count": 1,
   "metadata": {},
   "outputs": [
    {
     "name": "stdout",
     "output_type": "stream",
     "text": [
      "Requirement already satisfied: redis in c:\\users\\nematizadeh\\appdata\\local\\programs\\python\\python310\\lib\\site-packages (5.0.8)\n",
      "Requirement already satisfied: async-timeout>=4.0.3 in c:\\users\\nematizadeh\\appdata\\local\\programs\\python\\python310\\lib\\site-packages (from redis) (4.0.3)\n"
     ]
    }
   ],
   "source": [
    "!pip install redis"
   ]
  },
  {
   "cell_type": "code",
   "execution_count": 7,
   "metadata": {},
   "outputs": [
    {
     "name": "stdout",
     "output_type": "stream",
     "text": [
      "Mohammad\n"
     ]
    }
   ],
   "source": [
    "import redis\n",
    "r = redis.Redis(host='localhost', port=6379, db=0, decode_responses=True)\n",
    "r.set('name', 'Mohammad')\n",
    "value = r.get('name')\n",
    "print(value)\n"
   ]
  },
  {
   "cell_type": "markdown",
   "metadata": {},
   "source": [
    "# Store User Session Information"
   ]
  },
  {
   "cell_type": "code",
   "execution_count": 8,
   "metadata": {},
   "outputs": [
    {
     "name": "stdout",
     "output_type": "stream",
     "text": [
      "Session data for user 123 stored successfully.\n",
      "Session data retrieved for user 123: {'user_id': '123', 'last_login': '2024-09-15 10:00:00'}\n"
     ]
    },
    {
     "name": "stderr",
     "output_type": "stream",
     "text": [
      "C:\\Users\\nematizadeh\\AppData\\Local\\Temp\\ipykernel_8880\\3965061049.py:10: DeprecationWarning: Redis.hmset() is deprecated. Use Redis.hset() instead.\n",
      "  r.hmset(session_key, {\"user_id\": user_id, \"last_login\": last_login})\n"
     ]
    }
   ],
   "source": [
    "def store_user_session(user_id, last_login):\n",
    "    session_key = f\"user_session:{user_id}\"\n",
    "    r.hmset(session_key, {\"user_id\": user_id, \"last_login\": last_login})\n",
    "    print(f\"Session user {user_id} successfully.\")\n",
    "\n",
    "def retrieve_user_session(user_id):\n",
    "    session_key = f\"user_session:{user_id}\"\n",
    "    session_data = r.hgetall(session_key)\n",
    "    if session_data:\n",
    "        print(f\"Session data retrieved for user {user_id}: {session_data}\")\n",
    "    else:\n",
    "        print(f\"No session data found for user {user_id}.\")\n",
    "    return session_data\n",
    "\n",
    "if __name__ == \"__main__\":\n",
    "    user_id = \"123\"\n",
    "    last_login = \"2024-09-15 10:00:00\"\n",
    "    store_user_session(user_id, last_login)\n",
    "    retrieve_user_session(user_id)"
   ]
  },
  {
   "cell_type": "markdown",
   "metadata": {},
   "source": [
    "# Expire Keys"
   ]
  },
  {
   "cell_type": "code",
   "execution_count": 10,
   "metadata": {},
   "outputs": [
    {
     "name": "stdout",
     "output_type": "stream",
     "text": [
      "OTP for user user_123 is still available: 987654\n",
      "Waiting for 60 seconds...\n",
      "OTP for user user_123 has expired or does not exist.\n"
     ]
    }
   ],
   "source": [
    "import redis\n",
    "import time\n",
    "\n",
    "def store_otp(user_id, otp, expiration=60):\n",
    "    otp_key = f\"otp:{user_id}\"\n",
    "    r.setex(otp_key, expiration, otp)\n",
    "\n",
    "def check_otp(user_id):\n",
    "    otp_key = f\"otp:{user_id}\"\n",
    "    otp_value = r.get(otp_key)\n",
    "    if otp_value:\n",
    "        print(f\"OTP for user {user_id} is still available: {otp_value}\")\n",
    "    else:\n",
    "        print(f\"OTP for user {user_id} has expired or does not exist.\")\n",
    "    return otp_value\n",
    "\n",
    "if __name__ == \"__main__\":\n",
    "    user_id = \"user_123\"\n",
    "    otp = \"987654\"\n",
    "    store_otp(user_id, otp, expiration=60)\n",
    "    check_otp(user_id)\n",
    "    print(\"Waiting for 60 seconds...\")\n",
    "    time.sleep(60)\n",
    "    check_otp(user_id)\n"
   ]
  },
  {
   "cell_type": "markdown",
   "metadata": {},
   "source": [
    "# Leaderboard Implementation"
   ]
  },
  {
   "cell_type": "code",
   "execution_count": 11,
   "metadata": {},
   "outputs": [
    {
     "name": "stdout",
     "output_type": "stream",
     "text": [
      "Users and scores added to leaderboard.\n",
      "Top 3 users:\n",
      "user4: 90.0\n",
      "user2: 80.0\n",
      "user1: 50.0\n"
     ]
    }
   ],
   "source": [
    "\n",
    "def add_users_scores(users_scores):\n",
    "    leaderboard_key = \"leaderboard\"\n",
    "    for user, score in users_scores.items():\n",
    "        r.zadd(leaderboard_key, {user: score})\n",
    "    print(\"Users and scores added to leaderboard.\")\n",
    "\n",
    "def get_top_n_users(n):\n",
    "    leaderboard_key = \"leaderboard\"\n",
    "    \n",
    "    top_users = r.zrevrange(leaderboard_key, 0, n-1, withscores=True)\n",
    "    \n",
    "    return top_users\n",
    "\n",
    "if __name__ == \"__main__\":\n",
    "    users_scores = {\n",
    "        'user1': 50,\n",
    "        'user2': 80,\n",
    "        'user3': 40,\n",
    "        'user4': 90\n",
    "    }\n",
    "    add_users_scores(users_scores)\n",
    "    top_3_users = get_top_n_users(3)\n",
    "    print(\"Top 3 users:\")\n",
    "    for user, score in top_3_users:\n",
    "        print(f\"{user}: {score}\")\n"
   ]
  },
  {
   "cell_type": "markdown",
   "metadata": {},
   "source": [
    "# Batch User Data Updates with Redis Pipelines"
   ]
  },
  {
   "cell_type": "code",
   "execution_count": 12,
   "metadata": {},
   "outputs": [
    {
     "name": "stdout",
     "output_type": "stream",
     "text": [
      "user:user_1 -> {'age': '25', 'score': '85.5'}\n",
      "user:user_2 -> {'age': '30', 'score': '90.0'}\n",
      "user:user_3 -> {'age': '22', 'score': '76.4'}\n"
     ]
    },
    {
     "name": "stderr",
     "output_type": "stream",
     "text": [
      "C:\\Users\\nematizadeh\\AppData\\Local\\Temp\\ipykernel_8880\\2443223210.py:14: DeprecationWarning: Pipeline.hmset() is deprecated. Use Pipeline.hset() instead.\n",
      "  pipe.hmset(user_key, {\"age\": user[\"age\"], \"score\": user[\"score\"]})\n"
     ]
    }
   ],
   "source": [
    "users_data = [\n",
    "    {\"user_id\": \"user_1\", \"age\": 25, \"score\": 85.5},\n",
    "    {\"user_id\": \"user_2\", \"age\": 30, \"score\": 90.0},\n",
    "    {\"user_id\": \"user_3\", \"age\": 22, \"score\": 76.4},\n",
    "]\n",
    "pipe = r.pipeline()\n",
    "for user in users_data:\n",
    "    user_key = f\"user:{user['user_id']}\"\n",
    "    pipe.hmset(user_key, {\"age\": user[\"age\"], \"score\": user[\"score\"]})\n",
    "\n",
    "pipe.execute()\n",
    "\n",
    "for user in users_data:\n",
    "    user_key = f\"user:{user['user_id']}\"\n",
    "    user_data = r.hgetall(user_key)\n",
    "    print(f\"{user_key} -> {user_data}\")\n"
   ]
  }
 ],
 "metadata": {
  "kernelspec": {
   "display_name": "Python 3",
   "language": "python",
   "name": "python3"
  },
  "language_info": {
   "codemirror_mode": {
    "name": "ipython",
    "version": 3
   },
   "file_extension": ".py",
   "mimetype": "text/x-python",
   "name": "python",
   "nbconvert_exporter": "python",
   "pygments_lexer": "ipython3",
   "version": "3.10.5"
  }
 },
 "nbformat": 4,
 "nbformat_minor": 2
}
