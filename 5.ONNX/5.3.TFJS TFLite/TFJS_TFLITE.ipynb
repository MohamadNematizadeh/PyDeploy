{
  "nbformat": 4,
  "nbformat_minor": 0,
  "metadata": {
    "colab": {
      "private_outputs": true,
      "provenance": []
    },
    "kernelspec": {
      "name": "python3",
      "display_name": "Python 3"
    },
    "language_info": {
      "name": "python"
    }
  },
  "cells": [
    {
      "cell_type": "markdown",
      "source": [
        "**YOLO TFLITE**"
      ],
      "metadata": {
        "id": "yzqdHufkB8pI"
      }
    },
    {
      "cell_type": "code",
      "source": [
        "!pip install ultralytics"
      ],
      "metadata": {
        "id": "IIZ22PMrCID8"
      },
      "execution_count": null,
      "outputs": []
    },
    {
      "cell_type": "code",
      "execution_count": null,
      "metadata": {
        "id": "JwQXc4S2B7e8"
      },
      "outputs": [],
      "source": [
        "from ultralytics import YOLO\n",
        "\n",
        "# Load the YOLO11 model\n",
        "model = YOLO(\"yolo11n.pt\")\n",
        "# Export the model to TFLite format\n",
        "model.export(format=\"tflite\")"
      ]
    },
    {
      "cell_type": "markdown",
      "source": [
        "**Tensorflow to Tflite**"
      ],
      "metadata": {
        "id": "y16z2qS8CS3p"
      }
    },
    {
      "cell_type": "code",
      "source": [
        "import numpy as np\n",
        "import tensorflow as tf\n",
        "from tensorflow.keras.applications.resnet50 import ResNet50\n",
        "from tensorflow.keras.models import load_model"
      ],
      "metadata": {
        "id": "5AuxRAz-CNl4"
      },
      "execution_count": null,
      "outputs": []
    },
    {
      "cell_type": "code",
      "source": [
        "tf_model = ResNet50(weights=\"imagenet\", include_top=True)\n",
        "tf_model_path = \"./resnet50_tf_model/\"\n",
        "tf_model.export(tf_model_path)"
      ],
      "metadata": {
        "id": "l5XJc2HICbdL"
      },
      "execution_count": null,
      "outputs": []
    },
    {
      "cell_type": "code",
      "source": [
        "converter = tf.lite.TFLiteConverter.from_saved_model(tf_model_path)\n",
        "tflite_model = converter.convert()\n",
        "\n",
        "tflite_model_path = \"resnet50.tflite\"\n",
        "with open(tflite_model_path, \"wb\") as f:\n",
        "    f.write(tflite_model)"
      ],
      "metadata": {
        "id": "ybte2ByeCd8I"
      },
      "execution_count": null,
      "outputs": []
    },
    {
      "cell_type": "markdown",
      "source": [
        "**PyTorch to Tflite**"
      ],
      "metadata": {
        "id": "fZKBLAPlDBUV"
      }
    },
    {
      "cell_type": "code",
      "source": [
        "!pip install ai-edge-torch-nightly torchvision"
      ],
      "metadata": {
        "id": "8Kqge96vDRHF"
      },
      "execution_count": null,
      "outputs": []
    },
    {
      "cell_type": "code",
      "source": [
        "import ai_edge_torch\n",
        "import numpy\n",
        "import torch\n",
        "import torchvision\n",
        "from google.colab import files\n"
      ],
      "metadata": {
        "id": "D95rW7OPDSTd"
      },
      "execution_count": null,
      "outputs": []
    },
    {
      "cell_type": "code",
      "source": [
        "resnet18 = torchvision.models.resnet18(torchvision.models.ResNet18_Weights.IMAGENET1K_V1).eval()\n",
        "sample_inputs = (torch.randn(1, 3, 224, 224),)\n",
        "torch_output = resnet18(*sample_inputs)"
      ],
      "metadata": {
        "id": "KtdlymvQDUH5"
      },
      "execution_count": null,
      "outputs": []
    },
    {
      "cell_type": "code",
      "source": [
        "edge_model = ai_edge_torch.convert(resnet18.eval(), sample_inputs)"
      ],
      "metadata": {
        "id": "YF-xQitKDW_U"
      },
      "execution_count": null,
      "outputs": []
    },
    {
      "cell_type": "code",
      "source": [
        "edge_output = edge_model(*sample_inputs)"
      ],
      "metadata": {
        "id": "a8yBXWqMDZVi"
      },
      "execution_count": null,
      "outputs": []
    },
    {
      "cell_type": "code",
      "source": [
        "if (numpy.allclose(\n",
        "    torch_output.detach().numpy(),\n",
        "    edge_output,\n",
        "    atol=1e-5,\n",
        "    rtol=1e-5,\n",
        ")):\n",
        "    print(\"Inference result with Pytorch and TfLite was within tolerance\")\n",
        "else:\n",
        "    print(\"Something wrong with Pytorch --> TfLite\")"
      ],
      "metadata": {
        "id": "yGHXgA3cDbb5"
      },
      "execution_count": null,
      "outputs": []
    },
    {
      "cell_type": "code",
      "source": [
        "edge_model.export('resnet.tflite')"
      ],
      "metadata": {
        "id": "MEZQJfT2DeCz"
      },
      "execution_count": null,
      "outputs": []
    },
    {
      "cell_type": "markdown",
      "source": [
        "**TFJS YOLO**"
      ],
      "metadata": {
        "id": "E-1HZTfrEXwF"
      }
    },
    {
      "cell_type": "code",
      "source": [
        "from ultralytics import YOLO\n",
        "\n",
        "# Load the YOLO11 model\n",
        "model = YOLO(\"yolo11n.pt\")\n",
        "\n",
        "# Export the model to TF.js format\n",
        "model.export(format=\"tfjs\")"
      ],
      "metadata": {
        "id": "NOPkaDl_EbNW"
      },
      "execution_count": null,
      "outputs": []
    }
  ]
}